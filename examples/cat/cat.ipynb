{
 "cells": [
  {
   "cell_type": "markdown",
   "metadata": {},
   "source": [
    "# Example of using plotlyviz for visualizing Kepler Mapper graphs"
   ]
  },
  {
   "cell_type": "code",
   "execution_count": 1,
   "metadata": {},
   "outputs": [],
   "source": [
    "import numpy as np\n",
    "import sklearn\n",
    "import kmapper as km\n",
    "from kmapper.plotlyviz import plotlyviz\n",
    "\n",
    "import plotly.graph_objs as go\n",
    "import ipywidgets as ipw"
   ]
  },
  {
   "cell_type": "code",
   "execution_count": 2,
   "metadata": {},
   "outputs": [],
   "source": [
    "data = np.genfromtxt('../data/cat-reference.csv', delimiter=',')"
   ]
  },
  {
   "cell_type": "code",
   "execution_count": 3,
   "metadata": {},
   "outputs": [
    {
     "data": {
      "text/plain": [
       "array([[ 1.35790e-02,  2.15377e-01, -1.70891e-01],\n",
       "       [ 1.04930e-02,  2.26649e-01, -1.73601e-01],\n",
       "       [ 2.04150e-02,  2.30665e-01, -1.75927e-01],\n",
       "       ...,\n",
       "       [-1.71000e-04,  2.63030e-01, -4.59012e-01],\n",
       "       [ 4.05300e-03,  2.64760e-01, -4.62176e-01],\n",
       "       [ 2.31480e-02,  2.19681e-01, -1.73577e-01]])"
      ]
     },
     "execution_count": 3,
     "metadata": {},
     "output_type": "execute_result"
    }
   ],
   "source": [
    "data"
   ]
  },
  {
   "cell_type": "markdown",
   "metadata": {},
   "source": [
    "Transform  data points to get a cat in normal position:"
   ]
  },
  {
   "cell_type": "code",
   "execution_count": 4,
   "metadata": {},
   "outputs": [],
   "source": [
    "x = np.copy(data[:, 0])\n",
    "y = np.copy(data[:, 1])\n",
    "z = np.copy(data[:,2])\n",
    "data[:, 0] = z\n",
    "data[:, 1] = x\n",
    "data[:, 2] = y"
   ]
  },
  {
   "cell_type": "code",
   "execution_count": 6,
   "metadata": {},
   "outputs": [
    {
     "data": {
      "text/html": [
       "<pre style=\"white-space:pre;overflow-x:auto;line-height:normal;font-family:Menlo,'DejaVu Sans Mono',consolas,'Courier New',monospace\"><span style=\"color: #7fbfbf; text-decoration-color: #7fbfbf\">[09/10/24 16:44:35] </span><span style=\"color: #800000; text-decoration-color: #800000\">WARNING </span> e:\\projects\\datastudio-cid\\retrain\\venv\\lib\\site-packages\\plotly\\graph <a href=\"file://C:\\Users\\qs.chou\\AppData\\Local\\Programs\\Python\\Python39\\lib\\warnings.py\" target=\"_blank\"><span style=\"color: #7f7f7f; text-decoration-color: #7f7f7f\">warnings.py</span></a><span style=\"color: #7f7f7f; text-decoration-color: #7f7f7f\">:</span><a href=\"file://C:\\Users\\qs.chou\\AppData\\Local\\Programs\\Python\\Python39\\lib\\warnings.py#109\" target=\"_blank\"><span style=\"color: #7f7f7f; text-decoration-color: #7f7f7f\">109</span></a>\n",
       "<span style=\"color: #7fbfbf; text-decoration-color: #7fbfbf\">                    </span>         _objs\\__init__.py:<span style=\"color: #008080; text-decoration-color: #008080; font-weight: bold\">288</span>: DeprecationWarning:                             <span style=\"color: #7f7f7f; text-decoration-color: #7f7f7f\">               </span>\n",
       "<span style=\"color: #7fbfbf; text-decoration-color: #7fbfbf\">                    </span>                                                                                <span style=\"color: #7f7f7f; text-decoration-color: #7f7f7f\">               </span>\n",
       "<span style=\"color: #7fbfbf; text-decoration-color: #7fbfbf\">                    </span>         distutils Version classes are deprecated. Use packaging.version        <span style=\"color: #7f7f7f; text-decoration-color: #7f7f7f\">               </span>\n",
       "<span style=\"color: #7fbfbf; text-decoration-color: #7fbfbf\">                    </span>         instead.                                                               <span style=\"color: #7f7f7f; text-decoration-color: #7f7f7f\">               </span>\n",
       "<span style=\"color: #7fbfbf; text-decoration-color: #7fbfbf\">                    </span>                                                                                <span style=\"color: #7f7f7f; text-decoration-color: #7f7f7f\">               </span>\n",
       "<span style=\"color: #7fbfbf; text-decoration-color: #7fbfbf\">                    </span>                                                                                <span style=\"color: #7f7f7f; text-decoration-color: #7f7f7f\">               </span>\n",
       "</pre>\n"
      ],
      "text/plain": [
       "\u001b[2;36m[09/10/24 16:44:35]\u001b[0m\u001b[2;36m \u001b[0m\u001b[31mWARNING \u001b[0m e:\\projects\\datastudio-cid\\retrain\\venv\\lib\\site-packages\\plotly\\graph \u001b]8;id=712823;file://C:\\Users\\qs.chou\\AppData\\Local\\Programs\\Python\\Python39\\lib\\warnings.py\u001b\\\u001b[2mwarnings.py\u001b[0m\u001b]8;;\u001b\\\u001b[2m:\u001b[0m\u001b]8;id=4229;file://C:\\Users\\qs.chou\\AppData\\Local\\Programs\\Python\\Python39\\lib\\warnings.py#109\u001b\\\u001b[2m109\u001b[0m\u001b]8;;\u001b\\\n",
       "\u001b[2;36m                    \u001b[0m         _objs\\__init__.py:\u001b[1;36m288\u001b[0m: DeprecationWarning:                             \u001b[2m               \u001b[0m\n",
       "\u001b[2;36m                    \u001b[0m                                                                                \u001b[2m               \u001b[0m\n",
       "\u001b[2;36m                    \u001b[0m         distutils Version classes are deprecated. Use packaging.version        \u001b[2m               \u001b[0m\n",
       "\u001b[2;36m                    \u001b[0m         instead.                                                               \u001b[2m               \u001b[0m\n",
       "\u001b[2;36m                    \u001b[0m                                                                                \u001b[2m               \u001b[0m\n",
       "\u001b[2;36m                    \u001b[0m                                                                                \u001b[2m               \u001b[0m\n"
      ]
     },
     "metadata": {},
     "output_type": "display_data"
    },
    {
     "data": {
      "application/vnd.jupyter.widget-view+json": {
       "model_id": "1de51c644e7346d6911721d0f9361c4c",
       "version_major": 2,
       "version_minor": 0
      },
      "text/plain": [
       "FigureWidget({\n",
       "    'data': [{'marker': {'color': 'grey', 'size': 1.5},\n",
       "              'mode': 'markers',\n",
       "              'type': 'scatter3d',\n",
       "              'uid': '50a5ce2d-0b09-4755-a949-08de08185954',\n",
       "              'x': array([-0.170891, -0.173601, -0.175927, ..., -0.459012, -0.462176, -0.173577]),\n",
       "              'y': array([ 0.013579,  0.010493,  0.020415, ..., -0.000171,  0.004053,  0.023148]),\n",
       "              'z': array([0.215377, 0.226649, 0.230665, ..., 0.26303 , 0.26476 , 0.219681])}],\n",
       "    'layout': {'autosize': False,\n",
       "               'height': 600,\n",
       "               'margin': {'b': 10, 'r': 10},\n",
       "               'scene': {'aspectratio': {'x': 1.25, 'y': 0.4, 'z': 0.8},\n",
       "                         'xaxis': {'backgroundcolor': 'rgb(230, 230,230)',\n",
       "                                   'gridcolor': 'rgb(255, 255, 255)',\n",
       "                                   'showbackground': True,\n",
       "                                   'zerolinecolor': 'rgb(255, 255, 255)'},\n",
       "                         'yaxis': {'backgroundcolor': 'rgb(230, 230,230)',\n",
       "                                   'gridcolor': 'rgb(255, 255, 255)',\n",
       "                                   'showbackground': True,\n",
       "                                   'zerolinecolor': 'rgb(255, 255, 255)'},\n",
       "                         'zaxis': {'backgroundcolor': 'rgb(230, 230,230)',\n",
       "                                   'gridcolor': 'rgb(255, 255, 255)',\n",
       "                                   'showbackground': True,\n",
       "                                   'zerolinecolor': 'rgb(255, 255, 255)'}},\n",
       "               'template': '...',\n",
       "               'title': {'text': 'Cat'},\n",
       "               'width': 600}\n",
       "})"
      ]
     },
     "execution_count": 6,
     "metadata": {},
     "output_type": "execute_result"
    }
   ],
   "source": [
    "axis = dict(showbackground=True, \n",
    "            backgroundcolor=\"rgb(230, 230,230)\",\n",
    "            gridcolor=\"rgb(255, 255, 255)\",      \n",
    "            zerolinecolor=\"rgb(255, 255, 255)\")\n",
    "\n",
    "cat_trace = dict(type='scatter3d',\n",
    "                 x=data[:,0],\n",
    "                 y=data[:,1],\n",
    "                 z=data[:,2],\n",
    "                 mode='markers',\n",
    "                 marker=dict(color='grey', size=1.5))\n",
    "\n",
    "cat_layout=layout=dict(width=600, height=600, autosize=False,\n",
    "                       title='Cat',\n",
    "                       scene=dict(xaxis=axis,\n",
    "                                  yaxis=axis, \n",
    "                                  zaxis=axis, \n",
    "                                  \n",
    "                                  aspectratio=dict(x=1.25,\n",
    "                                                   y=0.4, \n",
    "                                                   z=0.8)),\n",
    "                       margin=dict(r=10, b=10)\n",
    "                      )\n",
    "fwcat=go.FigureWidget(data=[cat_trace], layout=cat_layout)  \n",
    "fwcat"
   ]
  },
  {
   "cell_type": "markdown",
   "metadata": {},
   "source": [
    "We can define a custom Plotly colorscale for graph node coloring, or use the default."
   ]
  },
  {
   "cell_type": "code",
   "execution_count": 7,
   "metadata": {},
   "outputs": [],
   "source": [
    "pl_matter = [[0.0, 'rgb(253, 237, 176)'], #derived from cmocean.cm.matter https://matplotlib.org/cmocean/\n",
    "             [0.1, 'rgb(250, 202, 143)'],\n",
    "             [0.2, 'rgb(245, 166, 114)'],\n",
    "             [0.3, 'rgb(238, 132, 93)'],\n",
    "             [0.4, 'rgb(226, 97, 82)'],\n",
    "             [0.5, 'rgb(206, 67, 86)'],\n",
    "             [0.6, 'rgb(179, 46, 94)'],\n",
    "             [0.7, 'rgb(147, 31, 99)'],\n",
    "             [0.8, 'rgb(114, 25, 95)'],\n",
    "             [0.9, 'rgb(79, 21, 82)'],\n",
    "             [1.0, 'rgb(47, 15, 61)']]"
   ]
  },
  {
   "cell_type": "code",
   "execution_count": 8,
   "metadata": {},
   "outputs": [],
   "source": [
    "mapper = km.KeplerMapper(verbose=0)\n",
    "lens = mapper.fit_transform(data)\n",
    "scomplex = mapper.map(lens,\n",
    "                      data,\n",
    "                      clusterer=sklearn.cluster.DBSCAN(eps=0.1, min_samples=5),\n",
    "                      cover=km.Cover(n_cubes=15, perc_overlap=0.2))"
   ]
  },
  {
   "cell_type": "code",
   "execution_count": 9,
   "metadata": {},
   "outputs": [
    {
     "data": {
      "text/html": [
       "<pre style=\"white-space:pre;overflow-x:auto;line-height:normal;font-family:Menlo,'DejaVu Sans Mono',consolas,'Courier New',monospace\"><span style=\"color: #7fbfbf; text-decoration-color: #7fbfbf\">[09/10/24 16:45:26] </span><span style=\"color: #800000; text-decoration-color: #800000\">WARNING </span> e:\\projects\\datastudio-cid\\retrain\\venv\\lib\\site-packages\\plotly\\graph <a href=\"file://C:\\Users\\qs.chou\\AppData\\Local\\Programs\\Python\\Python39\\lib\\warnings.py\" target=\"_blank\"><span style=\"color: #7f7f7f; text-decoration-color: #7f7f7f\">warnings.py</span></a><span style=\"color: #7f7f7f; text-decoration-color: #7f7f7f\">:</span><a href=\"file://C:\\Users\\qs.chou\\AppData\\Local\\Programs\\Python\\Python39\\lib\\warnings.py#109\" target=\"_blank\"><span style=\"color: #7f7f7f; text-decoration-color: #7f7f7f\">109</span></a>\n",
       "<span style=\"color: #7fbfbf; text-decoration-color: #7fbfbf\">                    </span>         _objs\\__init__.py:<span style=\"color: #008080; text-decoration-color: #008080; font-weight: bold\">288</span>: DeprecationWarning:                             <span style=\"color: #7f7f7f; text-decoration-color: #7f7f7f\">               </span>\n",
       "<span style=\"color: #7fbfbf; text-decoration-color: #7fbfbf\">                    </span>                                                                                <span style=\"color: #7f7f7f; text-decoration-color: #7f7f7f\">               </span>\n",
       "<span style=\"color: #7fbfbf; text-decoration-color: #7fbfbf\">                    </span>         distutils Version classes are deprecated. Use packaging.version        <span style=\"color: #7f7f7f; text-decoration-color: #7f7f7f\">               </span>\n",
       "<span style=\"color: #7fbfbf; text-decoration-color: #7fbfbf\">                    </span>         instead.                                                               <span style=\"color: #7f7f7f; text-decoration-color: #7f7f7f\">               </span>\n",
       "<span style=\"color: #7fbfbf; text-decoration-color: #7fbfbf\">                    </span>                                                                                <span style=\"color: #7f7f7f; text-decoration-color: #7f7f7f\">               </span>\n",
       "<span style=\"color: #7fbfbf; text-decoration-color: #7fbfbf\">                    </span>                                                                                <span style=\"color: #7f7f7f; text-decoration-color: #7f7f7f\">               </span>\n",
       "</pre>\n"
      ],
      "text/plain": [
       "\u001b[2;36m[09/10/24 16:45:26]\u001b[0m\u001b[2;36m \u001b[0m\u001b[31mWARNING \u001b[0m e:\\projects\\datastudio-cid\\retrain\\venv\\lib\\site-packages\\plotly\\graph \u001b]8;id=188642;file://C:\\Users\\qs.chou\\AppData\\Local\\Programs\\Python\\Python39\\lib\\warnings.py\u001b\\\u001b[2mwarnings.py\u001b[0m\u001b]8;;\u001b\\\u001b[2m:\u001b[0m\u001b]8;id=581479;file://C:\\Users\\qs.chou\\AppData\\Local\\Programs\\Python\\Python39\\lib\\warnings.py#109\u001b\\\u001b[2m109\u001b[0m\u001b]8;;\u001b\\\n",
       "\u001b[2;36m                    \u001b[0m         _objs\\__init__.py:\u001b[1;36m288\u001b[0m: DeprecationWarning:                             \u001b[2m               \u001b[0m\n",
       "\u001b[2;36m                    \u001b[0m                                                                                \u001b[2m               \u001b[0m\n",
       "\u001b[2;36m                    \u001b[0m         distutils Version classes are deprecated. Use packaging.version        \u001b[2m               \u001b[0m\n",
       "\u001b[2;36m                    \u001b[0m         instead.                                                               \u001b[2m               \u001b[0m\n",
       "\u001b[2;36m                    \u001b[0m                                                                                \u001b[2m               \u001b[0m\n",
       "\u001b[2;36m                    \u001b[0m                                                                                \u001b[2m               \u001b[0m\n"
      ]
     },
     "metadata": {},
     "output_type": "display_data"
    },
    {
     "data": {
      "application/vnd.jupyter.widget-view+json": {
       "model_id": "129d6be690c24cb4847778633e77e81a",
       "version_major": 2,
       "version_minor": 0
      },
      "text/plain": [
       "FigureWidget({\n",
       "    'data': [{'hoverinfo': 'none',\n",
       "              'line': {'color': 'rgb(180,180,180)', 'width': 1.5},\n",
       "              'mode': 'lines',\n",
       "              'type': 'scatter',\n",
       "              'uid': 'ef600cf8-6682-4079-a928-eb3a88060e82',\n",
       "              'x': [-1.0157544844188378, -0.8111514387707554, None,\n",
       "                    0.5605285380792313, 0.3005734688577131, None,\n",
       "                    -0.8111514387707554, -0.586207950159721, None,\n",
       "                    0.3005734688577131, 0.01319670375168706, None,\n",
       "                    -0.586207950159721, -0.31949949064165145, None,\n",
       "                    0.01319670375168706, -0.31949949064165145, None,\n",
       "                    -0.31949949064165145, -0.3793973689566841, None,\n",
       "                    -0.3793973689566841, -0.46461174853401116, None,\n",
       "                    -1.3039509451241063, -0.9631831426418078, None,\n",
       "                    -0.46461174853401116, -0.5966205950438812, None,\n",
       "                    -0.9631831426418078, -0.5966205950438812, None,\n",
       "                    -0.5966205950438812, -0.39828177586007746, None,\n",
       "                    -0.39828177586007746, -0.2485623676554695, None,\n",
       "                    -0.2485623676554695, -0.12517375119944096, None,\n",
       "                    -0.12517375119944096, -0.01725075246353455, None,\n",
       "                    -0.01725075246353455, 0.08087083693370353, None,\n",
       "                    0.08087083693370353, 0.17243431400372136, None,\n",
       "                    0.17243431400372136, 0.2594337236893905, None,\n",
       "                    0.2594337236893905, 0.3431674095656601, None],\n",
       "              'y': [1.8416506744081287, 1.5799125737156918, None,\n",
       "                    1.61832844341024, 1.4104766321908504, None, 1.5799125737156918,\n",
       "                    1.3201144402519631, None, 1.4104766321908504,\n",
       "                    1.2219707985154693, None, 1.3201144402519631,\n",
       "                    1.0670813979364115, None, 1.2219707985154693,\n",
       "                    1.0670813979364115, None, 1.0670813979364115,\n",
       "                    0.7070039739950138, None, 0.7070039739950138,\n",
       "                    0.36546537974643073, None, -0.09777596084795424,\n",
       "                    -0.03508438548165186, None, 0.36546537974643073,\n",
       "                    0.0241737064956658, None, -0.03508438548165186,\n",
       "                    0.0241737064956658, None, 0.0241737064956658,\n",
       "                    -0.2790242399197644, None, -0.2790242399197644,\n",
       "                    -0.5843935879320422, None, -0.5843935879320422,\n",
       "                    -0.8920609572763675, None, -0.8920609572763675,\n",
       "                    -1.2008227297232594, None, -1.2008227297232594,\n",
       "                    -1.5101268179463678, None, -1.5101268179463678,\n",
       "                    -1.8197128958430524, None, -1.8197128958430524,\n",
       "                    -2.1294335663955337, None, -2.1294335663955337,\n",
       "                    -2.4391706100279857, None]},\n",
       "             {'hoverinfo': 'text',\n",
       "              'marker': {'color': [0.9367368897303998, 0.9961543798970945,\n",
       "                                   0.9141928022943845, 0.9911994634101213,\n",
       "                                   0.8056238896062995, 0.9880014517816349,\n",
       "                                   0.7344501237951693, 0.5564746768996851,\n",
       "                                   0.35005550929780743, 0.29199505462619535,\n",
       "                                   0.3817290816290989, 0.2687556983976634,\n",
       "                                   0.21890317079464874, 0.16182136355297141,\n",
       "                                   0.1340131321311388, 0.18323328961522625,\n",
       "                                   0.4048171853126058, 0.5773183805162364,\n",
       "                                   0.5631132823752717, 0.5323361343876163],\n",
       "                         'colorbar': {'thickness': 20, 'tickfont': {'size': 10}, 'ticklen': 4, 'x': 1.01},\n",
       "                         'colorscale': [[0.0, 'rgb(253, 237, 176)'], [0.1,\n",
       "                                        'rgb(250, 202, 143)'], [0.2, 'rgb(245, 166,\n",
       "                                        114)'], [0.3, 'rgb(238, 132, 93)'], [0.4,\n",
       "                                        'rgb(226, 97, 82)'], [0.5, 'rgb(206, 67,\n",
       "                                        86)'], [0.6, 'rgb(179, 46, 94)'], [0.7,\n",
       "                                        'rgb(147, 31, 99)'], [0.8, 'rgb(114, 25,\n",
       "                                        95)'], [0.9, 'rgb(79, 21, 82)'], [1.0,\n",
       "                                        'rgb(47, 15, 61)']],\n",
       "                         'line': {'color': 'rgb(200,200,200)', 'width': 1.0},\n",
       "                         'opacity': 1.0,\n",
       "                         'showscale': True,\n",
       "                         'size': [18, 12, 21, 12, 21, 12, 18, 18, 6, 18, 21, 21,\n",
       "                                  21, 18, 18, 18, 18, 21, 21, 18]},\n",
       "              'mode': 'markers',\n",
       "              'text': [cube0_cluster0, cube0_cluster1, cube1_cluster0,\n",
       "                       cube1_cluster1, cube2_cluster0, cube2_cluster1,\n",
       "                       cube3_cluster0, cube4_cluster0, cube4_cluster1,\n",
       "                       cube5_cluster0, cube5_cluster1, cube6_cluster0,\n",
       "                       cube7_cluster0, cube8_cluster0, cube9_cluster0,\n",
       "                       cube10_cluster0, cube11_cluster0, cube12_cluster0,\n",
       "                       cube13_cluster0, cube14_cluster0],\n",
       "              'type': 'scatter',\n",
       "              'uid': 'f2cbfae5-bb4c-4afe-a393-8fb18de1724b',\n",
       "              'x': [-1.0157544844188378, 0.5605285380792313, -0.8111514387707554,\n",
       "                    0.3005734688577131, -0.586207950159721, 0.01319670375168706,\n",
       "                    -0.31949949064165145, -0.3793973689566841, -1.3039509451241063,\n",
       "                    -0.46461174853401116, -0.9631831426418078, -0.5966205950438812,\n",
       "                    -0.39828177586007746, -0.2485623676554695,\n",
       "                    -0.12517375119944096, -0.01725075246353455,\n",
       "                    0.08087083693370353, 0.17243431400372136, 0.2594337236893905,\n",
       "                    0.3431674095656601],\n",
       "              'y': [1.8416506744081287, 1.61832844341024, 1.5799125737156918,\n",
       "                    1.4104766321908504, 1.3201144402519631, 1.2219707985154693,\n",
       "                    1.0670813979364115, 0.7070039739950138, -0.09777596084795424,\n",
       "                    0.36546537974643073, -0.03508438548165186, 0.0241737064956658,\n",
       "                    -0.2790242399197644, -0.5843935879320422, -0.8920609572763675,\n",
       "                    -1.2008227297232594, -1.5101268179463678, -1.8197128958430524,\n",
       "                    -2.1294335663955337, -2.4391706100279857]}],\n",
       "    'layout': {'annotations': [{'align': 'left',\n",
       "                                'font': {'size': 12},\n",
       "                                'showarrow': False,\n",
       "                                'text': ('<b>N_cubes:</b> 15 <b>Perc_ove' ... '24 <b>Unique_samples:</b> 7207'),\n",
       "                                'x': 0,\n",
       "                                'xanchor': 'left',\n",
       "                                'xref': 'paper',\n",
       "                                'y': -0.01,\n",
       "                                'yanchor': 'top',\n",
       "                                'yref': 'paper'}],\n",
       "               'autosize': False,\n",
       "               'font': {'size': 12},\n",
       "               'height': 500,\n",
       "               'hovermode': 'closest',\n",
       "               'margin': {'b': 35, 'l': 10, 'r': 60, 't': 100},\n",
       "               'plot_bgcolor': 'rgba(240, 240, 240, 0.95)',\n",
       "               'showlegend': False,\n",
       "               'template': '...',\n",
       "               'title': {'text': 'Topological network associated to<br> the cat dataset'},\n",
       "               'width': 600,\n",
       "               'xaxis': {'visible': False},\n",
       "               'yaxis': {'visible': False}}\n",
       "})"
      ]
     },
     "execution_count": 9,
     "metadata": {},
     "output_type": "execute_result"
    }
   ],
   "source": [
    "title = 'Topological network associated to<br> the cat dataset'\n",
    "\n",
    "plotlyviz(scomplex, colorscale=pl_matter, title=title)"
   ]
  },
  {
   "cell_type": "code",
   "execution_count": 10,
   "metadata": {},
   "outputs": [
    {
     "data": {
      "text/html": [
       "<pre style=\"white-space:pre;overflow-x:auto;line-height:normal;font-family:Menlo,'DejaVu Sans Mono',consolas,'Courier New',monospace\"><span style=\"color: #7fbfbf; text-decoration-color: #7fbfbf\">[09/10/24 16:45:37] </span><span style=\"color: #800000; text-decoration-color: #800000\">WARNING </span> e:\\projects\\datastudio-cid\\retrain\\venv\\lib\\site-packages\\plotly\\graph <a href=\"file://C:\\Users\\qs.chou\\AppData\\Local\\Programs\\Python\\Python39\\lib\\warnings.py\" target=\"_blank\"><span style=\"color: #7f7f7f; text-decoration-color: #7f7f7f\">warnings.py</span></a><span style=\"color: #7f7f7f; text-decoration-color: #7f7f7f\">:</span><a href=\"file://C:\\Users\\qs.chou\\AppData\\Local\\Programs\\Python\\Python39\\lib\\warnings.py#109\" target=\"_blank\"><span style=\"color: #7f7f7f; text-decoration-color: #7f7f7f\">109</span></a>\n",
       "<span style=\"color: #7fbfbf; text-decoration-color: #7fbfbf\">                    </span>         _objs\\__init__.py:<span style=\"color: #008080; text-decoration-color: #008080; font-weight: bold\">288</span>: DeprecationWarning:                             <span style=\"color: #7f7f7f; text-decoration-color: #7f7f7f\">               </span>\n",
       "<span style=\"color: #7fbfbf; text-decoration-color: #7fbfbf\">                    </span>                                                                                <span style=\"color: #7f7f7f; text-decoration-color: #7f7f7f\">               </span>\n",
       "<span style=\"color: #7fbfbf; text-decoration-color: #7fbfbf\">                    </span>         distutils Version classes are deprecated. Use packaging.version        <span style=\"color: #7f7f7f; text-decoration-color: #7f7f7f\">               </span>\n",
       "<span style=\"color: #7fbfbf; text-decoration-color: #7fbfbf\">                    </span>         instead.                                                               <span style=\"color: #7f7f7f; text-decoration-color: #7f7f7f\">               </span>\n",
       "<span style=\"color: #7fbfbf; text-decoration-color: #7fbfbf\">                    </span>                                                                                <span style=\"color: #7f7f7f; text-decoration-color: #7f7f7f\">               </span>\n",
       "<span style=\"color: #7fbfbf; text-decoration-color: #7fbfbf\">                    </span>                                                                                <span style=\"color: #7f7f7f; text-decoration-color: #7f7f7f\">               </span>\n",
       "</pre>\n"
      ],
      "text/plain": [
       "\u001b[2;36m[09/10/24 16:45:37]\u001b[0m\u001b[2;36m \u001b[0m\u001b[31mWARNING \u001b[0m e:\\projects\\datastudio-cid\\retrain\\venv\\lib\\site-packages\\plotly\\graph \u001b]8;id=54769;file://C:\\Users\\qs.chou\\AppData\\Local\\Programs\\Python\\Python39\\lib\\warnings.py\u001b\\\u001b[2mwarnings.py\u001b[0m\u001b]8;;\u001b\\\u001b[2m:\u001b[0m\u001b]8;id=483377;file://C:\\Users\\qs.chou\\AppData\\Local\\Programs\\Python\\Python39\\lib\\warnings.py#109\u001b\\\u001b[2m109\u001b[0m\u001b]8;;\u001b\\\n",
       "\u001b[2;36m                    \u001b[0m         _objs\\__init__.py:\u001b[1;36m288\u001b[0m: DeprecationWarning:                             \u001b[2m               \u001b[0m\n",
       "\u001b[2;36m                    \u001b[0m                                                                                \u001b[2m               \u001b[0m\n",
       "\u001b[2;36m                    \u001b[0m         distutils Version classes are deprecated. Use packaging.version        \u001b[2m               \u001b[0m\n",
       "\u001b[2;36m                    \u001b[0m         instead.                                                               \u001b[2m               \u001b[0m\n",
       "\u001b[2;36m                    \u001b[0m                                                                                \u001b[2m               \u001b[0m\n",
       "\u001b[2;36m                    \u001b[0m                                                                                \u001b[2m               \u001b[0m\n"
      ]
     },
     "metadata": {},
     "output_type": "display_data"
    },
    {
     "data": {
      "application/vnd.jupyter.widget-view+json": {
       "model_id": "a4dba5303c4d43589d5ded22af2190d9",
       "version_major": 2,
       "version_minor": 0
      },
      "text/plain": [
       "VBox(children=(HBox(children=(FigureWidget({\n",
       "    'data': [{'hoverinfo': 'none',\n",
       "              'line': {'color'…"
      ]
     },
     "execution_count": 10,
     "metadata": {},
     "output_type": "execute_result"
    }
   ],
   "source": [
    "plotlyviz(scomplex, colorscale=pl_matter, title=title, dashboard=True)"
   ]
  },
  {
   "cell_type": "code",
   "execution_count": 11,
   "metadata": {},
   "outputs": [
    {
     "data": {
      "text/html": [
       "<pre style=\"white-space:pre;overflow-x:auto;line-height:normal;font-family:Menlo,'DejaVu Sans Mono',consolas,'Courier New',monospace\"><span style=\"color: #7fbfbf; text-decoration-color: #7fbfbf\">[09/10/24 16:45:50] </span><span style=\"color: #800000; text-decoration-color: #800000\">WARNING </span> e:\\projects\\datastudio-cid\\retrain\\venv\\lib\\site-packages\\plotly\\graph <a href=\"file://C:\\Users\\qs.chou\\AppData\\Local\\Programs\\Python\\Python39\\lib\\warnings.py\" target=\"_blank\"><span style=\"color: #7f7f7f; text-decoration-color: #7f7f7f\">warnings.py</span></a><span style=\"color: #7f7f7f; text-decoration-color: #7f7f7f\">:</span><a href=\"file://C:\\Users\\qs.chou\\AppData\\Local\\Programs\\Python\\Python39\\lib\\warnings.py#109\" target=\"_blank\"><span style=\"color: #7f7f7f; text-decoration-color: #7f7f7f\">109</span></a>\n",
       "<span style=\"color: #7fbfbf; text-decoration-color: #7fbfbf\">                    </span>         _objs\\__init__.py:<span style=\"color: #008080; text-decoration-color: #008080; font-weight: bold\">288</span>: DeprecationWarning:                             <span style=\"color: #7f7f7f; text-decoration-color: #7f7f7f\">               </span>\n",
       "<span style=\"color: #7fbfbf; text-decoration-color: #7fbfbf\">                    </span>                                                                                <span style=\"color: #7f7f7f; text-decoration-color: #7f7f7f\">               </span>\n",
       "<span style=\"color: #7fbfbf; text-decoration-color: #7fbfbf\">                    </span>         distutils Version classes are deprecated. Use packaging.version        <span style=\"color: #7f7f7f; text-decoration-color: #7f7f7f\">               </span>\n",
       "<span style=\"color: #7fbfbf; text-decoration-color: #7fbfbf\">                    </span>         instead.                                                               <span style=\"color: #7f7f7f; text-decoration-color: #7f7f7f\">               </span>\n",
       "<span style=\"color: #7fbfbf; text-decoration-color: #7fbfbf\">                    </span>                                                                                <span style=\"color: #7f7f7f; text-decoration-color: #7f7f7f\">               </span>\n",
       "<span style=\"color: #7fbfbf; text-decoration-color: #7fbfbf\">                    </span>                                                                                <span style=\"color: #7f7f7f; text-decoration-color: #7f7f7f\">               </span>\n",
       "</pre>\n"
      ],
      "text/plain": [
       "\u001b[2;36m[09/10/24 16:45:50]\u001b[0m\u001b[2;36m \u001b[0m\u001b[31mWARNING \u001b[0m e:\\projects\\datastudio-cid\\retrain\\venv\\lib\\site-packages\\plotly\\graph \u001b]8;id=773019;file://C:\\Users\\qs.chou\\AppData\\Local\\Programs\\Python\\Python39\\lib\\warnings.py\u001b\\\u001b[2mwarnings.py\u001b[0m\u001b]8;;\u001b\\\u001b[2m:\u001b[0m\u001b]8;id=254265;file://C:\\Users\\qs.chou\\AppData\\Local\\Programs\\Python\\Python39\\lib\\warnings.py#109\u001b\\\u001b[2m109\u001b[0m\u001b]8;;\u001b\\\n",
       "\u001b[2;36m                    \u001b[0m         _objs\\__init__.py:\u001b[1;36m288\u001b[0m: DeprecationWarning:                             \u001b[2m               \u001b[0m\n",
       "\u001b[2;36m                    \u001b[0m                                                                                \u001b[2m               \u001b[0m\n",
       "\u001b[2;36m                    \u001b[0m         distutils Version classes are deprecated. Use packaging.version        \u001b[2m               \u001b[0m\n",
       "\u001b[2;36m                    \u001b[0m         instead.                                                               \u001b[2m               \u001b[0m\n",
       "\u001b[2;36m                    \u001b[0m                                                                                \u001b[2m               \u001b[0m\n",
       "\u001b[2;36m                    \u001b[0m                                                                                \u001b[2m               \u001b[0m\n"
      ]
     },
     "metadata": {},
     "output_type": "display_data"
    },
    {
     "data": {
      "application/vnd.jupyter.widget-view+json": {
       "model_id": "9bcd3aa56c6246d58a95ea6e6bbb6700",
       "version_major": 2,
       "version_minor": 0
      },
      "text/plain": [
       "VBox(children=(FigureWidget({\n",
       "    'data': [{'hoverinfo': 'none',\n",
       "              'line': {'color': 'rgb(180,180,…"
      ]
     },
     "execution_count": 11,
     "metadata": {},
     "output_type": "execute_result"
    }
   ],
   "source": [
    "plotlyviz(scomplex, colorscale=pl_matter, title=title, graph_data=True)"
   ]
  },
  {
   "cell_type": "code",
   "execution_count": null,
   "metadata": {},
   "outputs": [],
   "source": []
  }
 ],
 "metadata": {
  "kernelspec": {
   "display_name": "Kedro (myiris)",
   "language": "python",
   "name": "kedro_myiris"
  },
  "language_info": {
   "codemirror_mode": {
    "name": "ipython",
    "version": 3
   },
   "file_extension": ".py",
   "mimetype": "text/x-python",
   "name": "python",
   "nbconvert_exporter": "python",
   "pygments_lexer": "ipython3",
   "version": "3.9.13"
  }
 },
 "nbformat": 4,
 "nbformat_minor": 2
}
